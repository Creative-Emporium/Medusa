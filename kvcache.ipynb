{
 "cells": [
  {
   "cell_type": "code",
   "execution_count": 1,
   "metadata": {},
   "outputs": [
    {
     "data": {
      "text/plain": [
       "(<medusa.model.kv_cache.KVCache at 0x7718ace66260>, '2,147,483,648')"
      ]
     },
     "execution_count": 1,
     "metadata": {},
     "output_type": "execute_result"
    }
   ],
   "source": [
    "import torch\n",
    "from medusa.model.kv_cache import KVCache\n",
    "\n",
    "\n",
    "past_key_values_data = torch.zeros(64, 1, 32, 4096, 128,\n",
    "    device='cuda',\n",
    "    dtype=torch.float16,\n",
    ")\n",
    "current_length_data = torch.zeros(\n",
    "    64, dtype=torch.long, device=\"cpu\"\n",
    ")\n",
    "\n",
    "cache = KVCache(past_key_values_data[0], current_length_data[0])\n",
    "cache, f'{torch.cuda.memory_allocated(0):,}'"
   ]
  },
  {
   "cell_type": "code",
   "execution_count": 18,
   "metadata": {},
   "outputs": [
    {
     "data": {
      "text/plain": [
       "'2,147,483,648'"
      ]
     },
     "execution_count": 18,
     "metadata": {},
     "output_type": "execute_result"
    }
   ],
   "source": [
    "t = torch.randn(1, 32, 1, 128, dtype=torch.float16).to('cuda')\n",
    "t = cache.cat(t)\n",
    "\n",
    "f'{torch.cuda.memory_allocated(0):,}'"
   ]
  },
  {
   "cell_type": "code",
   "execution_count": 4,
   "metadata": {},
   "outputs": [
    {
     "data": {
      "text/plain": [
       "8192"
      ]
     },
     "execution_count": 4,
     "metadata": {},
     "output_type": "execute_result"
    }
   ],
   "source": [
    "491840-483648"
   ]
  },
  {
   "cell_type": "code",
   "execution_count": 19,
   "metadata": {},
   "outputs": [
    {
     "data": {
      "text/plain": [
       "(torch.Size([1, 32, 13, 128]), tensor(13))"
      ]
     },
     "execution_count": 19,
     "metadata": {},
     "output_type": "execute_result"
    }
   ],
   "source": [
    "t.shape, cache.current_length"
   ]
  }
 ],
 "metadata": {
  "kernelspec": {
   "display_name": "env",
   "language": "python",
   "name": "python3"
  },
  "language_info": {
   "codemirror_mode": {
    "name": "ipython",
    "version": 3
   },
   "file_extension": ".py",
   "mimetype": "text/x-python",
   "name": "python",
   "nbconvert_exporter": "python",
   "pygments_lexer": "ipython3",
   "version": "3.10.12"
  }
 },
 "nbformat": 4,
 "nbformat_minor": 2
}
