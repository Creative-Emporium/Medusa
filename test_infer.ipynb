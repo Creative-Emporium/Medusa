{
 "cells": [
  {
   "cell_type": "code",
   "execution_count": 1,
   "metadata": {},
   "outputs": [],
   "source": [
    "args = dict(\n",
    "\tmodel='FasterDecoding/medusa-1.0-vicuna-7b-v1.5',\n",
    "\ttemperature=0.7,\n",
    "\tmax_steps=512,\n",
    "\tstyle='simple',\n",
    "\tmultiline=False,\n",
    "\tmouse=False,\n",
    "\tdebug=False,\n",
    ")\n"
   ]
  },
  {
   "cell_type": "code",
   "execution_count": 2,
   "metadata": {},
   "outputs": [
    {
     "name": "stderr",
     "output_type": "stream",
     "text": [
      "/home/camus/work/Medusa/env/lib/python3.10/site-packages/tqdm/auto.py:21: TqdmWarning: IProgress not found. Please update jupyter and ipywidgets. See https://ipywidgets.readthedocs.io/en/stable/user_install.html\n",
      "  from .autonotebook import tqdm as notebook_tqdm\n",
      "/home/camus/work/Medusa/env/lib/python3.10/site-packages/transformers/utils/generic.py:311: UserWarning: torch.utils._pytree._register_pytree_node is deprecated. Please use torch.utils._pytree.register_pytree_node instead.\n",
      "  torch.utils._pytree._register_pytree_node(\n",
      "/home/camus/work/Medusa/env/lib/python3.10/site-packages/transformers/utils/generic.py:311: UserWarning: torch.utils._pytree._register_pytree_node is deprecated. Please use torch.utils._pytree.register_pytree_node instead.\n",
      "  torch.utils._pytree._register_pytree_node(\n",
      "Special tokens have been added in the vocabulary, make sure the associated word embeddings are fine-tuned or trained.\n",
      "Special tokens have been added in the vocabulary, make sure the associated word embeddings are fine-tuned or trained.\n",
      "Loading checkpoint shards: 100%|██████████| 2/2 [00:09<00:00,  4.78s/it]\n"
     ]
    },
    {
     "data": {
      "text/plain": [
       "MedusaModelLlama(\n",
       "  (model): LlamaModel(\n",
       "    (embed_tokens): Embedding(32000, 4096, padding_idx=0)\n",
       "    (layers): ModuleList(\n",
       "      (0-31): 32 x LlamaDecoderLayer(\n",
       "        (self_attn): LlamaAttention(\n",
       "          (q_proj): Linear(in_features=4096, out_features=4096, bias=False)\n",
       "          (k_proj): Linear(in_features=4096, out_features=4096, bias=False)\n",
       "          (v_proj): Linear(in_features=4096, out_features=4096, bias=False)\n",
       "          (o_proj): Linear(in_features=4096, out_features=4096, bias=False)\n",
       "          (rotary_emb): LlamaRotaryEmbedding()\n",
       "        )\n",
       "        (mlp): LlamaMLP(\n",
       "          (gate_proj): Linear(in_features=4096, out_features=11008, bias=False)\n",
       "          (up_proj): Linear(in_features=4096, out_features=11008, bias=False)\n",
       "          (down_proj): Linear(in_features=11008, out_features=4096, bias=False)\n",
       "          (act_fn): SiLUActivation()\n",
       "        )\n",
       "        (input_layernorm): LlamaRMSNorm()\n",
       "        (post_attention_layernorm): LlamaRMSNorm()\n",
       "      )\n",
       "    )\n",
       "    (norm): LlamaRMSNorm()\n",
       "  )\n",
       "  (lm_head): Linear(in_features=4096, out_features=32000, bias=False)\n",
       "  (medusa_head): ModuleList(\n",
       "    (0-4): 5 x Sequential(\n",
       "      (0): ResBlock(\n",
       "        (linear): Linear(in_features=4096, out_features=4096, bias=True)\n",
       "        (act): SiLU()\n",
       "      )\n",
       "      (1): Linear(in_features=4096, out_features=32000, bias=False)\n",
       "    )\n",
       "  )\n",
       ")"
      ]
     },
     "execution_count": 2,
     "metadata": {},
     "output_type": "execute_result"
    }
   ],
   "source": [
    "import torch\n",
    "\n",
    "from medusa.model.medusa_model import MedusaModel\n",
    "\n",
    "\n",
    "model = MedusaModel.from_pretrained(\n",
    "    args['model'],\n",
    "    torch_dtype=torch.float16,\n",
    "    low_cpu_mem_usage=True,\n",
    "    device_map=\"auto\",\n",
    ")\n",
    "model"
   ]
  },
  {
   "cell_type": "code",
   "execution_count": 3,
   "metadata": {},
   "outputs": [
    {
     "name": "stderr",
     "output_type": "stream",
     "text": [
      "Using sep_token, but it is not set yet.\n",
      "Using cls_token, but it is not set yet.\n",
      "Using mask_token, but it is not set yet.\n"
     ]
    },
    {
     "data": {
      "text/plain": [
       "LlamaTokenizerFast(name_or_path='FasterDecoding/medusa-1.0-vicuna-7b-v1.5', vocab_size=32000, model_max_length=4096, is_fast=True, padding_side='right', truncation_side='right', special_tokens={'bos_token': '<s>', 'eos_token': '</s>', 'unk_token': '<unk>', 'pad_token': '<unk>', 'additional_special_tokens': ['<unk>', '<s>', '</s>']}, clean_up_tokenization_spaces=False),  added_tokens_decoder={\n",
       "\t0: AddedToken(\"<unk>\", rstrip=False, lstrip=False, single_word=False, normalized=True, special=True),\n",
       "\t1: AddedToken(\"<s>\", rstrip=False, lstrip=False, single_word=False, normalized=True, special=True),\n",
       "\t2: AddedToken(\"</s>\", rstrip=False, lstrip=False, single_word=False, normalized=True, special=True),\n",
       "}"
      ]
     },
     "execution_count": 3,
     "metadata": {},
     "output_type": "execute_result"
    }
   ],
   "source": [
    "tokenizer = model.get_tokenizer()\n",
    "tokenizer"
   ]
  },
  {
   "cell_type": "code",
   "execution_count": 4,
   "metadata": {},
   "outputs": [
    {
     "data": {
      "text/plain": [
       "Conversation(name='vicuna_v1.1', system_template='{system_message}', system_message=\"A chat between a curious user and an artificial intelligence assistant. The assistant gives helpful, detailed, and polite answers to the user's questions.\", roles=('USER', 'ASSISTANT'), messages=[], offset=0, sep_style=<SeparatorStyle.ADD_COLON_TWO: 2>, sep=' ', sep2='</s>', stop_str=None, stop_token_ids=None)"
      ]
     },
     "execution_count": 4,
     "metadata": {},
     "output_type": "execute_result"
    }
   ],
   "source": [
    "from fastchat.model.model_adapter import get_conversation_template\n",
    "\n",
    "\n",
    "conv = get_conversation_template(args['model'])\n",
    "conv"
   ]
  },
  {
   "cell_type": "code",
   "execution_count": 5,
   "metadata": {},
   "outputs": [
    {
     "data": {
      "text/plain": [
       "('USER', 'ASSISTANT')"
      ]
     },
     "execution_count": 5,
     "metadata": {},
     "output_type": "execute_result"
    }
   ],
   "source": [
    "conv.roles"
   ]
  },
  {
   "cell_type": "code",
   "execution_count": 6,
   "metadata": {},
   "outputs": [
    {
     "data": {
      "text/plain": [
       "'hello'"
      ]
     },
     "execution_count": 6,
     "metadata": {},
     "output_type": "execute_result"
    }
   ],
   "source": [
    "from fastchat.serve.cli import SimpleChatIO\n",
    "\n",
    "\n",
    "chatio = SimpleChatIO(args['multiline'])\n",
    "\n",
    "inp = chatio.prompt_for_input(conv.roles[0])\n",
    "inp"
   ]
  },
  {
   "cell_type": "code",
   "execution_count": 7,
   "metadata": {},
   "outputs": [
    {
     "data": {
      "text/plain": [
       "\"A chat between a curious user and an artificial intelligence assistant. The assistant gives helpful, detailed, and polite answers to the user's questions. USER: hello ASSISTANT:\""
      ]
     },
     "execution_count": 7,
     "metadata": {},
     "output_type": "execute_result"
    }
   ],
   "source": [
    "conv.append_message(conv.roles[0], inp)\n",
    "conv.append_message(conv.roles[1], None)\n",
    "prompt = conv.get_prompt()\n",
    "\n",
    "prompt"
   ]
  },
  {
   "cell_type": "code",
   "execution_count": 8,
   "metadata": {},
   "outputs": [
    {
     "data": {
      "text/plain": [
       "(torch.Size([1, 40]),\n",
       " tensor([[    1,   319, 13563,  1546,   263, 12758,  1404,   322,   385, 23116,\n",
       "          21082, 20255, 29889,   450, 20255,  4076,  8444, 29892, 13173, 29892,\n",
       "            322,  1248,   568,  6089,   304,   278,  1404, 29915, 29879,  5155,\n",
       "          29889,  3148,  1001, 29901, 22172,   319,  1799,  9047, 13566, 29901]],\n",
       "        device='cuda:0'))"
      ]
     },
     "execution_count": 8,
     "metadata": {},
     "output_type": "execute_result"
    }
   ],
   "source": [
    "input_ids = tokenizer.encode(prompt, return_tensors=\"pt\").to(model.base_model.device)\n",
    "input_ids.shape, input_ids"
   ]
  },
  {
   "cell_type": "markdown",
   "metadata": {},
   "source": [
    "---"
   ]
  },
  {
   "cell_type": "code",
   "execution_count": 9,
   "metadata": {},
   "outputs": [
    {
     "data": {
      "text/plain": [
       "{'text': 'Hello! How can I'}"
      ]
     },
     "execution_count": 9,
     "metadata": {},
     "output_type": "execute_result"
    }
   ],
   "source": [
    "gen = model.medusa_generate(\n",
    "    input_ids,\n",
    "    temperature=args['temperature'],\n",
    "    max_steps=args['max_steps'],\n",
    ")\n",
    "\n",
    "it = iter(gen)\n",
    "next(it)"
   ]
  },
  {
   "cell_type": "code",
   "execution_count": 10,
   "metadata": {},
   "outputs": [
    {
     "data": {
      "text/plain": [
       "{'text': 'Hello! How can I help you today?'}"
      ]
     },
     "execution_count": 10,
     "metadata": {},
     "output_type": "execute_result"
    }
   ],
   "source": [
    "next(it)"
   ]
  },
  {
   "cell_type": "markdown",
   "metadata": {},
   "source": [
    "---"
   ]
  },
  {
   "cell_type": "code",
   "execution_count": 11,
   "metadata": {},
   "outputs": [
    {
     "data": {
      "text/plain": [
       "[(0,),\n",
       " (0, 0),\n",
       " (1,),\n",
       " (0, 1),\n",
       " (0, 0, 0),\n",
       " (1, 0),\n",
       " (2,),\n",
       " (0, 2),\n",
       " (0, 0, 1),\n",
       " (0, 3),\n",
       " (3,),\n",
       " (0, 1, 0),\n",
       " (2, 0),\n",
       " (4,),\n",
       " (0, 0, 2),\n",
       " (0, 4),\n",
       " (1, 1),\n",
       " (1, 0, 0),\n",
       " (0, 0, 0, 0),\n",
       " (5,),\n",
       " (0, 0, 3),\n",
       " (0, 5),\n",
       " (0, 2, 0),\n",
       " (3, 0),\n",
       " (0, 1, 1),\n",
       " (0, 6),\n",
       " (6,),\n",
       " (0, 7),\n",
       " (0, 0, 4),\n",
       " (4, 0),\n",
       " (1, 2),\n",
       " (0, 8),\n",
       " (7,),\n",
       " (0, 3, 0),\n",
       " (0, 0, 0, 1),\n",
       " (0, 0, 5),\n",
       " (2, 1),\n",
       " (0, 0, 6),\n",
       " (1, 0, 1),\n",
       " (0, 0, 1, 0),\n",
       " (2, 0, 0),\n",
       " (5, 0),\n",
       " (0, 9),\n",
       " (0, 1, 2),\n",
       " (8,),\n",
       " (0, 4, 0),\n",
       " (0, 2, 1),\n",
       " (1, 3),\n",
       " (0, 0, 7),\n",
       " (0, 0, 0, 2),\n",
       " (0, 0, 8),\n",
       " (1, 1, 0),\n",
       " (0, 1, 0, 0),\n",
       " (6, 0),\n",
       " (9,),\n",
       " (0, 1, 3),\n",
       " (0, 0, 0, 3),\n",
       " (1, 0, 2),\n",
       " (0, 5, 0),\n",
       " (3, 1),\n",
       " (0, 0, 2, 0),\n",
       " (7, 0),\n",
       " (1, 4)]"
      ]
     },
     "execution_count": 11,
     "metadata": {},
     "output_type": "execute_result"
    }
   ],
   "source": [
    "input_ids = input_ids.clone()\n",
    "medusa_choices = model.get_medusa_choice(model.base_model_name_or_path)\n",
    "\n",
    "medusa_choices"
   ]
  },
  {
   "cell_type": "code",
   "execution_count": 12,
   "metadata": {},
   "outputs": [
    {
     "data": {
      "text/plain": [
       "{'medusa_attn_mask': tensor([[[[1., 0., 0.,  ..., 0., 0., 0.],\n",
       "           [1., 1., 0.,  ..., 0., 0., 0.],\n",
       "           [1., 0., 1.,  ..., 0., 0., 0.],\n",
       "           ...,\n",
       "           [1., 1., 0.,  ..., 1., 0., 0.],\n",
       "           [1., 1., 0.,  ..., 0., 1., 0.],\n",
       "           [1., 1., 0.,  ..., 0., 0., 1.]]]], device='cuda:0'),\n",
       " 'tree_indices': tensor([ 0,  1,  2,  3,  4,  5,  6,  7,  8,  9, 10, 11, 12, 13, 14, 15, 16, 17,\n",
       "         18, 19, 20, 11, 12, 13, 14, 15, 11, 12, 11, 12, 11, 11, 11, 11, 21, 22,\n",
       "         23, 24, 25, 26, 27, 28, 29, 21, 22, 23, 24, 21, 22, 21, 21, 21, 21, 22,\n",
       "         23, 21, 21, 31, 32, 33, 34, 31, 31, 31], device='cuda:0'),\n",
       " 'medusa_position_ids': tensor([0, 1, 1, 1, 1, 1, 1, 1, 1, 1, 1, 2, 2, 2, 2, 2, 2, 2, 2, 2, 2, 2, 2, 2,\n",
       "         2, 2, 2, 2, 2, 2, 2, 2, 2, 2, 3, 3, 3, 3, 3, 3, 3, 3, 3, 3, 3, 3, 3, 3,\n",
       "         3, 3, 3, 3, 3, 3, 3, 3, 3, 4, 4, 4, 4, 4, 4, 4], device='cuda:0'),\n",
       " 'retrieve_indices': tensor([[ 0,  1, 12, 43, 63],\n",
       "         [ 0,  1, 11, 36, 62],\n",
       "         [ 0,  1, 11, 35, 61],\n",
       "         [ 0,  1, 11, 34, 60],\n",
       "         [ 0,  1, 11, 34, 59],\n",
       "         [ 0,  1, 11, 34, 58],\n",
       "         [ 0,  1, 11, 34, 57],\n",
       "         [ 0,  3, 26, 56, -1],\n",
       "         [ 0,  2, 22, 55, -1],\n",
       "         [ 0,  2, 21, 54, -1],\n",
       "         [ 0,  2, 21, 53, -1],\n",
       "         [ 0,  2, 21, 52, -1],\n",
       "         [ 0,  1, 16, 51, -1],\n",
       "         [ 0,  1, 15, 50, -1],\n",
       "         [ 0,  1, 14, 49, -1],\n",
       "         [ 0,  1, 13, 48, -1],\n",
       "         [ 0,  1, 13, 47, -1],\n",
       "         [ 0,  1, 12, 46, -1],\n",
       "         [ 0,  1, 12, 45, -1],\n",
       "         [ 0,  1, 12, 44, -1],\n",
       "         [ 0,  1, 11, 42, -1],\n",
       "         [ 0,  1, 11, 41, -1],\n",
       "         [ 0,  1, 11, 40, -1],\n",
       "         [ 0,  1, 11, 39, -1],\n",
       "         [ 0,  1, 11, 38, -1],\n",
       "         [ 0,  1, 11, 37, -1],\n",
       "         [ 0,  8, 33, -1, -1],\n",
       "         [ 0,  7, 32, -1, -1],\n",
       "         [ 0,  6, 31, -1, -1],\n",
       "         [ 0,  5, 30, -1, -1],\n",
       "         [ 0,  4, 29, -1, -1],\n",
       "         [ 0,  4, 28, -1, -1],\n",
       "         [ 0,  3, 27, -1, -1],\n",
       "         [ 0,  2, 25, -1, -1],\n",
       "         [ 0,  2, 24, -1, -1],\n",
       "         [ 0,  2, 23, -1, -1],\n",
       "         [ 0,  1, 20, -1, -1],\n",
       "         [ 0,  1, 19, -1, -1],\n",
       "         [ 0,  1, 18, -1, -1],\n",
       "         [ 0,  1, 17, -1, -1],\n",
       "         [ 0, 10, -1, -1, -1],\n",
       "         [ 0,  9, -1, -1, -1]], device='cuda:0')}"
      ]
     },
     "execution_count": 12,
     "metadata": {},
     "output_type": "execute_result"
    }
   ],
   "source": [
    "medusa_buffers = model.medusa_buffers\n",
    "medusa_buffers"
   ]
  },
  {
   "cell_type": "code",
   "execution_count": 13,
   "metadata": {},
   "outputs": [
    {
     "data": {
      "text/plain": [
       "[[<medusa.model.kv_cache.KVCache at 0x7341e16df190>,\n",
       "  <medusa.model.kv_cache.KVCache at 0x7341e16dee90>],\n",
       " [<medusa.model.kv_cache.KVCache at 0x7341e16df010>,\n",
       "  <medusa.model.kv_cache.KVCache at 0x7341e16def50>],\n",
       " [<medusa.model.kv_cache.KVCache at 0x7341e16deef0>,\n",
       "  <medusa.model.kv_cache.KVCache at 0x7341e16df460>],\n",
       " [<medusa.model.kv_cache.KVCache at 0x7341e16df310>,\n",
       "  <medusa.model.kv_cache.KVCache at 0x7341e16df370>],\n",
       " [<medusa.model.kv_cache.KVCache at 0x7341e16df3d0>,\n",
       "  <medusa.model.kv_cache.KVCache at 0x7341e16df1c0>],\n",
       " [<medusa.model.kv_cache.KVCache at 0x7341e16df160>,\n",
       "  <medusa.model.kv_cache.KVCache at 0x7341e16df6d0>],\n",
       " [<medusa.model.kv_cache.KVCache at 0x7341e16df400>,\n",
       "  <medusa.model.kv_cache.KVCache at 0x7341e16df610>],\n",
       " [<medusa.model.kv_cache.KVCache at 0x7341e16df640>,\n",
       "  <medusa.model.kv_cache.KVCache at 0x7341e16df850>],\n",
       " [<medusa.model.kv_cache.KVCache at 0x7341e16df6a0>,\n",
       "  <medusa.model.kv_cache.KVCache at 0x7341e16df1f0>],\n",
       " [<medusa.model.kv_cache.KVCache at 0x7341e16df4c0>,\n",
       "  <medusa.model.kv_cache.KVCache at 0x7341e16df040>],\n",
       " [<medusa.model.kv_cache.KVCache at 0x7341e16df760>,\n",
       "  <medusa.model.kv_cache.KVCache at 0x7341e16dfa00>],\n",
       " [<medusa.model.kv_cache.KVCache at 0x7341e16df9a0>,\n",
       "  <medusa.model.kv_cache.KVCache at 0x7341e16dfac0>],\n",
       " [<medusa.model.kv_cache.KVCache at 0x7341e16dfa60>,\n",
       "  <medusa.model.kv_cache.KVCache at 0x7341e16dfb80>],\n",
       " [<medusa.model.kv_cache.KVCache at 0x7341e16dfb20>,\n",
       "  <medusa.model.kv_cache.KVCache at 0x7341e16dfc40>],\n",
       " [<medusa.model.kv_cache.KVCache at 0x7341e16dfbe0>,\n",
       "  <medusa.model.kv_cache.KVCache at 0x7341e16dfd00>],\n",
       " [<medusa.model.kv_cache.KVCache at 0x7341e16dfca0>,\n",
       "  <medusa.model.kv_cache.KVCache at 0x7341e16dfdc0>],\n",
       " [<medusa.model.kv_cache.KVCache at 0x7341e16dfd60>,\n",
       "  <medusa.model.kv_cache.KVCache at 0x7341e16dfe80>],\n",
       " [<medusa.model.kv_cache.KVCache at 0x7341e16dfe20>,\n",
       "  <medusa.model.kv_cache.KVCache at 0x7341e16dff40>],\n",
       " [<medusa.model.kv_cache.KVCache at 0x7341e16dfee0>,\n",
       "  <medusa.model.kv_cache.KVCache at 0x7341e1694040>],\n",
       " [<medusa.model.kv_cache.KVCache at 0x7341e16dffa0>,\n",
       "  <medusa.model.kv_cache.KVCache at 0x7341e1694100>],\n",
       " [<medusa.model.kv_cache.KVCache at 0x7341e16940a0>,\n",
       "  <medusa.model.kv_cache.KVCache at 0x7341e16941c0>],\n",
       " [<medusa.model.kv_cache.KVCache at 0x7341e1694160>,\n",
       "  <medusa.model.kv_cache.KVCache at 0x7341e1694280>],\n",
       " [<medusa.model.kv_cache.KVCache at 0x7341e1694220>,\n",
       "  <medusa.model.kv_cache.KVCache at 0x7341e1694340>],\n",
       " [<medusa.model.kv_cache.KVCache at 0x7341e16942e0>,\n",
       "  <medusa.model.kv_cache.KVCache at 0x7341e1694400>],\n",
       " [<medusa.model.kv_cache.KVCache at 0x7341e16943a0>,\n",
       "  <medusa.model.kv_cache.KVCache at 0x7341e16944c0>],\n",
       " [<medusa.model.kv_cache.KVCache at 0x7341e1694460>,\n",
       "  <medusa.model.kv_cache.KVCache at 0x7341e1694580>],\n",
       " [<medusa.model.kv_cache.KVCache at 0x7341e1694520>,\n",
       "  <medusa.model.kv_cache.KVCache at 0x7341e1694640>],\n",
       " [<medusa.model.kv_cache.KVCache at 0x7341e16945e0>,\n",
       "  <medusa.model.kv_cache.KVCache at 0x7341e1694700>],\n",
       " [<medusa.model.kv_cache.KVCache at 0x7341e16946a0>,\n",
       "  <medusa.model.kv_cache.KVCache at 0x7341e16947c0>],\n",
       " [<medusa.model.kv_cache.KVCache at 0x7341e1694760>,\n",
       "  <medusa.model.kv_cache.KVCache at 0x7341e1694880>],\n",
       " [<medusa.model.kv_cache.KVCache at 0x7341e1694820>,\n",
       "  <medusa.model.kv_cache.KVCache at 0x7341e1694940>],\n",
       " [<medusa.model.kv_cache.KVCache at 0x7341e16948e0>,\n",
       "  <medusa.model.kv_cache.KVCache at 0x7341e1694a00>]]"
      ]
     },
     "execution_count": 13,
     "metadata": {},
     "output_type": "execute_result"
    }
   ],
   "source": [
    "past_key_values = model.past_key_values\n",
    "past_key_values"
   ]
  },
  {
   "cell_type": "code",
   "execution_count": 14,
   "metadata": {},
   "outputs": [
    {
     "data": {
      "text/plain": [
       "(torch.Size([64, 1, 32, 4096, 128]),\n",
       " tensor([[[[[-4.4336e-01,  2.6489e-02,  1.8616e-02,  ...,  7.9224e-02,\n",
       "             -7.9041e-02, -5.9998e-02],\n",
       "            [-2.4634e-01, -5.1239e-02,  3.7292e-02,  ...,  2.6025e-01,\n",
       "             -1.6504e-01,  2.5195e-01],\n",
       "            [-1.0193e-02, -1.9775e-01, -4.5996e-01,  ...,  1.3757e-01,\n",
       "              2.1448e-01,  2.4438e-01],\n",
       "            ...,\n",
       "            [ 0.0000e+00,  0.0000e+00,  0.0000e+00,  ...,  0.0000e+00,\n",
       "              0.0000e+00,  0.0000e+00],\n",
       "            [ 0.0000e+00,  0.0000e+00,  0.0000e+00,  ...,  0.0000e+00,\n",
       "              0.0000e+00,  0.0000e+00],\n",
       "            [ 0.0000e+00,  0.0000e+00,  0.0000e+00,  ...,  0.0000e+00,\n",
       "              0.0000e+00,  0.0000e+00]],\n",
       " \n",
       "           [[ 1.1064e+00,  9.3066e-01, -3.1470e-01,  ...,  4.9194e-01,\n",
       "             -2.4622e-01,  4.5483e-01],\n",
       "            [-2.2021e-01,  2.7075e-01,  2.5049e-01,  ..., -5.0488e-01,\n",
       "              1.4160e-01, -3.7695e-01],\n",
       "            [-1.2012e-01,  3.2251e-01, -3.7842e-02,  ..., -1.4062e-01,\n",
       "              3.5889e-01, -1.5552e-01],\n",
       "            ...,\n",
       "            [ 0.0000e+00,  0.0000e+00,  0.0000e+00,  ...,  0.0000e+00,\n",
       "              0.0000e+00,  0.0000e+00],\n",
       "            [ 0.0000e+00,  0.0000e+00,  0.0000e+00,  ...,  0.0000e+00,\n",
       "              0.0000e+00,  0.0000e+00],\n",
       "            [ 0.0000e+00,  0.0000e+00,  0.0000e+00,  ...,  0.0000e+00,\n",
       "              0.0000e+00,  0.0000e+00]],\n",
       " \n",
       "           [[ 4.6387e-02, -2.2852e-01, -3.0811e-01,  ..., -4.9835e-02,\n",
       "              5.0635e-01,  6.4014e-01],\n",
       "            [ 1.7358e-01,  2.2388e-01,  1.6821e-01,  ...,  1.5967e+00,\n",
       "              1.6836e+00,  1.4443e+00],\n",
       "            [ 8.4778e-02,  6.1572e-01, -9.1980e-02,  ..., -3.4570e-01,\n",
       "             -3.5840e-01, -3.4448e-01],\n",
       "            ...,\n",
       "            [ 0.0000e+00,  0.0000e+00,  0.0000e+00,  ...,  0.0000e+00,\n",
       "              0.0000e+00,  0.0000e+00],\n",
       "            [ 0.0000e+00,  0.0000e+00,  0.0000e+00,  ...,  0.0000e+00,\n",
       "              0.0000e+00,  0.0000e+00],\n",
       "            [ 0.0000e+00,  0.0000e+00,  0.0000e+00,  ...,  0.0000e+00,\n",
       "              0.0000e+00,  0.0000e+00]],\n",
       " \n",
       "           ...,\n",
       " \n",
       "           [[ 3.9246e-02, -1.6785e-02,  2.5284e-02,  ...,  2.7588e-01,\n",
       "              7.3340e-01, -4.4897e-01],\n",
       "            [-1.0264e+00,  4.4189e-01, -4.2163e-01,  ..., -5.1074e-01,\n",
       "             -9.4727e-01, -1.1045e+00],\n",
       "            [ 3.1934e-01,  1.7261e-01,  1.8640e-01,  ..., -1.5710e-01,\n",
       "              4.5020e-01, -2.6392e-01],\n",
       "            ...,\n",
       "            [ 0.0000e+00,  0.0000e+00,  0.0000e+00,  ...,  0.0000e+00,\n",
       "              0.0000e+00,  0.0000e+00],\n",
       "            [ 0.0000e+00,  0.0000e+00,  0.0000e+00,  ...,  0.0000e+00,\n",
       "              0.0000e+00,  0.0000e+00],\n",
       "            [ 0.0000e+00,  0.0000e+00,  0.0000e+00,  ...,  0.0000e+00,\n",
       "              0.0000e+00,  0.0000e+00]],\n",
       " \n",
       "           [[ 1.7651e-01, -5.0146e-01, -1.6980e-01,  ..., -1.8555e-01,\n",
       "              6.3538e-02,  7.1228e-02],\n",
       "            [ 5.2002e-02,  2.2778e-01, -9.3848e-01,  ..., -2.9614e-01,\n",
       "              4.2725e-02,  5.6793e-02],\n",
       "            [-1.5210e-01,  7.7588e-01,  4.9976e-01,  ...,  4.3213e-01,\n",
       "             -3.1494e-01, -3.1250e-01],\n",
       "            ...,\n",
       "            [ 0.0000e+00,  0.0000e+00,  0.0000e+00,  ...,  0.0000e+00,\n",
       "              0.0000e+00,  0.0000e+00],\n",
       "            [ 0.0000e+00,  0.0000e+00,  0.0000e+00,  ...,  0.0000e+00,\n",
       "              0.0000e+00,  0.0000e+00],\n",
       "            [ 0.0000e+00,  0.0000e+00,  0.0000e+00,  ...,  0.0000e+00,\n",
       "              0.0000e+00,  0.0000e+00]],\n",
       " \n",
       "           [[-3.3032e-01,  1.1250e+00,  1.2421e-01,  ...,  6.0449e-01,\n",
       "              1.0693e-01,  2.5366e-01],\n",
       "            [ 1.6418e-01, -1.7834e-01, -1.2695e-01,  ..., -1.2119e+00,\n",
       "              4.6802e-01, -1.0669e-01],\n",
       "            [ 7.4854e-01, -3.1689e-01, -1.8262e-01,  ...,  1.4141e+00,\n",
       "             -7.2656e-01,  4.5703e-01],\n",
       "            ...,\n",
       "            [ 0.0000e+00,  0.0000e+00,  0.0000e+00,  ...,  0.0000e+00,\n",
       "              0.0000e+00,  0.0000e+00],\n",
       "            [ 0.0000e+00,  0.0000e+00,  0.0000e+00,  ...,  0.0000e+00,\n",
       "              0.0000e+00,  0.0000e+00],\n",
       "            [ 0.0000e+00,  0.0000e+00,  0.0000e+00,  ...,  0.0000e+00,\n",
       "              0.0000e+00,  0.0000e+00]]]],\n",
       " \n",
       " \n",
       " \n",
       "         [[[[-5.8556e-03, -1.0727e-02,  9.0408e-03,  ..., -1.7670e-02,\n",
       "              1.1414e-02, -9.5978e-03],\n",
       "            [ 8.1482e-03,  6.3629e-03, -6.0654e-03,  ...,  8.6975e-03,\n",
       "             -1.5854e-02, -2.5902e-03],\n",
       "            [ 6.9771e-03, -1.0590e-02, -2.3365e-03,  ...,  5.1727e-03,\n",
       "              1.2108e-02, -4.7989e-03],\n",
       "            ...,\n",
       "            [ 0.0000e+00,  0.0000e+00,  0.0000e+00,  ...,  0.0000e+00,\n",
       "              0.0000e+00,  0.0000e+00],\n",
       "            [ 0.0000e+00,  0.0000e+00,  0.0000e+00,  ...,  0.0000e+00,\n",
       "              0.0000e+00,  0.0000e+00],\n",
       "            [ 0.0000e+00,  0.0000e+00,  0.0000e+00,  ...,  0.0000e+00,\n",
       "              0.0000e+00,  0.0000e+00]],\n",
       " \n",
       "           [[-4.0894e-03,  7.8506e-03,  3.1910e-03,  ..., -3.4866e-03,\n",
       "             -1.0780e-02, -7.0190e-04],\n",
       "            [ 2.2003e-02,  1.0633e-03, -3.1929e-03,  ...,  8.7738e-05,\n",
       "              2.9564e-05, -9.6588e-03],\n",
       "            [ 1.9608e-03,  5.4398e-03,  4.8180e-03,  ..., -4.7913e-03,\n",
       "             -2.6970e-03,  1.0208e-02],\n",
       "            ...,\n",
       "            [ 0.0000e+00,  0.0000e+00,  0.0000e+00,  ...,  0.0000e+00,\n",
       "              0.0000e+00,  0.0000e+00],\n",
       "            [ 0.0000e+00,  0.0000e+00,  0.0000e+00,  ...,  0.0000e+00,\n",
       "              0.0000e+00,  0.0000e+00],\n",
       "            [ 0.0000e+00,  0.0000e+00,  0.0000e+00,  ...,  0.0000e+00,\n",
       "              0.0000e+00,  0.0000e+00]],\n",
       " \n",
       "           [[ 2.3632e-03, -5.0430e-03,  1.5961e-02,  ..., -2.3849e-02,\n",
       "             -7.5378e-03, -1.9623e-02],\n",
       "            [-1.4000e-03,  2.8381e-03,  1.0178e-02,  ...,  2.1454e-02,\n",
       "             -1.7548e-02, -3.0212e-03],\n",
       "            [ 8.3618e-03, -1.8799e-02,  5.1384e-03,  ..., -2.4780e-02,\n",
       "              5.7526e-03,  4.3831e-03],\n",
       "            ...,\n",
       "            [ 0.0000e+00,  0.0000e+00,  0.0000e+00,  ...,  0.0000e+00,\n",
       "              0.0000e+00,  0.0000e+00],\n",
       "            [ 0.0000e+00,  0.0000e+00,  0.0000e+00,  ...,  0.0000e+00,\n",
       "              0.0000e+00,  0.0000e+00],\n",
       "            [ 0.0000e+00,  0.0000e+00,  0.0000e+00,  ...,  0.0000e+00,\n",
       "              0.0000e+00,  0.0000e+00]],\n",
       " \n",
       "           ...,\n",
       " \n",
       "           [[ 2.5406e-03, -4.0131e-03,  7.9651e-03,  ...,  1.5091e-02,\n",
       "             -3.2120e-03,  1.5039e-03],\n",
       "            [-2.5970e-02, -1.2131e-03, -3.7903e-02,  ..., -3.9978e-03,\n",
       "             -4.2542e-02,  4.4403e-03],\n",
       "            [-1.5434e-02,  1.0582e-02,  2.5272e-03,  ..., -6.6711e-02,\n",
       "             -1.6891e-02,  1.1002e-02],\n",
       "            ...,\n",
       "            [ 0.0000e+00,  0.0000e+00,  0.0000e+00,  ...,  0.0000e+00,\n",
       "              0.0000e+00,  0.0000e+00],\n",
       "            [ 0.0000e+00,  0.0000e+00,  0.0000e+00,  ...,  0.0000e+00,\n",
       "              0.0000e+00,  0.0000e+00],\n",
       "            [ 0.0000e+00,  0.0000e+00,  0.0000e+00,  ...,  0.0000e+00,\n",
       "              0.0000e+00,  0.0000e+00]],\n",
       " \n",
       "           [[ 1.2741e-02,  1.2115e-02, -2.2125e-02,  ...,  1.3580e-02,\n",
       "              4.1504e-03, -1.3733e-02],\n",
       "            [ 5.6763e-03, -6.7978e-03,  2.6989e-03,  ...,  1.3931e-02,\n",
       "              2.1420e-03,  1.7700e-03],\n",
       "            [ 1.6956e-03,  8.2855e-03, -2.8496e-03,  ..., -8.3694e-03,\n",
       "              1.2154e-02, -1.1497e-02],\n",
       "            ...,\n",
       "            [ 0.0000e+00,  0.0000e+00,  0.0000e+00,  ...,  0.0000e+00,\n",
       "              0.0000e+00,  0.0000e+00],\n",
       "            [ 0.0000e+00,  0.0000e+00,  0.0000e+00,  ...,  0.0000e+00,\n",
       "              0.0000e+00,  0.0000e+00],\n",
       "            [ 0.0000e+00,  0.0000e+00,  0.0000e+00,  ...,  0.0000e+00,\n",
       "              0.0000e+00,  0.0000e+00]],\n",
       " \n",
       "           [[-1.1002e-02,  2.5749e-03, -2.6321e-02,  ..., -1.9455e-02,\n",
       "             -1.4069e-02,  2.1172e-03],\n",
       "            [ 1.2756e-02,  4.3945e-03,  7.8888e-03,  ...,  1.8433e-02,\n",
       "             -8.5306e-04, -8.5678e-03],\n",
       "            [ 8.6832e-04, -3.8548e-03, -6.1607e-04,  ...,  7.1049e-04,\n",
       "             -5.1403e-04,  9.6359e-03],\n",
       "            ...,\n",
       "            [ 0.0000e+00,  0.0000e+00,  0.0000e+00,  ...,  0.0000e+00,\n",
       "              0.0000e+00,  0.0000e+00],\n",
       "            [ 0.0000e+00,  0.0000e+00,  0.0000e+00,  ...,  0.0000e+00,\n",
       "              0.0000e+00,  0.0000e+00],\n",
       "            [ 0.0000e+00,  0.0000e+00,  0.0000e+00,  ...,  0.0000e+00,\n",
       "              0.0000e+00,  0.0000e+00]]]],\n",
       " \n",
       " \n",
       " \n",
       "         [[[[ 4.1431e-01,  8.3496e-01,  5.0635e-01,  ..., -2.8760e-01,\n",
       "             -4.6680e-01,  2.3755e-01],\n",
       "            [-1.3682e+00,  2.7930e-01, -2.6855e-01,  ..., -1.2539e+00,\n",
       "             -1.5381e+00,  9.8975e-01],\n",
       "            [-7.3096e-01,  4.1016e-01, -8.1934e-01,  ..., -1.2256e+00,\n",
       "             -1.2930e+00,  8.4033e-01],\n",
       "            ...,\n",
       "            [ 0.0000e+00,  0.0000e+00,  0.0000e+00,  ...,  0.0000e+00,\n",
       "              0.0000e+00,  0.0000e+00],\n",
       "            [ 0.0000e+00,  0.0000e+00,  0.0000e+00,  ...,  0.0000e+00,\n",
       "              0.0000e+00,  0.0000e+00],\n",
       "            [ 0.0000e+00,  0.0000e+00,  0.0000e+00,  ...,  0.0000e+00,\n",
       "              0.0000e+00,  0.0000e+00]],\n",
       " \n",
       "           [[-2.3083e-01, -3.2471e-01,  1.9543e-01,  ...,  3.6328e-01,\n",
       "              2.4768e-01,  3.9697e-01],\n",
       "            [-1.4197e-01,  4.4141e-01, -6.1719e-01,  ..., -1.5820e+00,\n",
       "             -1.3115e+00, -7.4365e-01],\n",
       "            [ 1.4404e-01,  9.7656e-01, -8.0859e-01,  ..., -1.3125e+00,\n",
       "             -7.7881e-01, -7.2070e-01],\n",
       "            ...,\n",
       "            [ 0.0000e+00,  0.0000e+00,  0.0000e+00,  ...,  0.0000e+00,\n",
       "              0.0000e+00,  0.0000e+00],\n",
       "            [ 0.0000e+00,  0.0000e+00,  0.0000e+00,  ...,  0.0000e+00,\n",
       "              0.0000e+00,  0.0000e+00],\n",
       "            [ 0.0000e+00,  0.0000e+00,  0.0000e+00,  ...,  0.0000e+00,\n",
       "              0.0000e+00,  0.0000e+00]],\n",
       " \n",
       "           [[-2.1558e-01,  3.6255e-01,  4.7437e-01,  ...,  1.1084e+00,\n",
       "              8.2324e-01,  1.8579e-01],\n",
       "            [ 2.2412e-01, -4.1113e-01, -2.7026e-01,  ...,  9.4873e-01,\n",
       "              5.1221e-01,  4.2676e-01],\n",
       "            [ 7.4707e-02, -4.1504e-01, -1.5698e-01,  ...,  8.4326e-01,\n",
       "              3.9966e-01,  4.9585e-01],\n",
       "            ...,\n",
       "            [ 0.0000e+00,  0.0000e+00,  0.0000e+00,  ...,  0.0000e+00,\n",
       "              0.0000e+00,  0.0000e+00],\n",
       "            [ 0.0000e+00,  0.0000e+00,  0.0000e+00,  ...,  0.0000e+00,\n",
       "              0.0000e+00,  0.0000e+00],\n",
       "            [ 0.0000e+00,  0.0000e+00,  0.0000e+00,  ...,  0.0000e+00,\n",
       "              0.0000e+00,  0.0000e+00]],\n",
       " \n",
       "           ...,\n",
       " \n",
       "           [[-8.1543e-01,  1.8628e-01, -8.9600e-02,  ...,  6.1377e-01,\n",
       "             -4.7180e-02, -3.1323e-01],\n",
       "            [-4.7314e-01, -2.5977e-01, -7.0740e-02,  ..., -2.7637e-01,\n",
       "              2.5928e-01,  1.1505e-01],\n",
       "            [-1.5466e-01, -4.8096e-01, -2.9785e-01,  ..., -3.1421e-01,\n",
       "              3.2806e-02,  7.5134e-02],\n",
       "            ...,\n",
       "            [ 0.0000e+00,  0.0000e+00,  0.0000e+00,  ...,  0.0000e+00,\n",
       "              0.0000e+00,  0.0000e+00],\n",
       "            [ 0.0000e+00,  0.0000e+00,  0.0000e+00,  ...,  0.0000e+00,\n",
       "              0.0000e+00,  0.0000e+00],\n",
       "            [ 0.0000e+00,  0.0000e+00,  0.0000e+00,  ...,  0.0000e+00,\n",
       "              0.0000e+00,  0.0000e+00]],\n",
       " \n",
       "           [[ 1.1426e-01,  2.3840e-01, -1.3965e-01,  ..., -1.9653e-01,\n",
       "              3.0981e-01,  1.2225e-01],\n",
       "            [-2.7393e-01, -2.9053e-01, -2.2986e-01,  ..., -6.1707e-02,\n",
       "             -4.1089e-01,  8.1299e-02],\n",
       "            [-4.9097e-01, -7.9346e-03, -5.0488e-01,  ...,  1.7358e-01,\n",
       "             -5.9912e-01,  1.0986e-01],\n",
       "            ...,\n",
       "            [ 0.0000e+00,  0.0000e+00,  0.0000e+00,  ...,  0.0000e+00,\n",
       "              0.0000e+00,  0.0000e+00],\n",
       "            [ 0.0000e+00,  0.0000e+00,  0.0000e+00,  ...,  0.0000e+00,\n",
       "              0.0000e+00,  0.0000e+00],\n",
       "            [ 0.0000e+00,  0.0000e+00,  0.0000e+00,  ...,  0.0000e+00,\n",
       "              0.0000e+00,  0.0000e+00]],\n",
       " \n",
       "           [[ 2.1814e-01, -9.8694e-02,  1.4722e-01,  ...,  5.2002e-01,\n",
       "             -4.9609e-01,  3.6914e-01],\n",
       "            [-2.3584e-01,  1.0565e-01,  2.7856e-01,  ...,  1.3213e+00,\n",
       "             -1.3633e+00,  9.2871e-01],\n",
       "            [-2.3767e-01,  3.5767e-01,  3.0029e-02,  ...,  1.3730e+00,\n",
       "             -1.3496e+00,  9.6045e-01],\n",
       "            ...,\n",
       "            [ 0.0000e+00,  0.0000e+00,  0.0000e+00,  ...,  0.0000e+00,\n",
       "              0.0000e+00,  0.0000e+00],\n",
       "            [ 0.0000e+00,  0.0000e+00,  0.0000e+00,  ...,  0.0000e+00,\n",
       "              0.0000e+00,  0.0000e+00],\n",
       "            [ 0.0000e+00,  0.0000e+00,  0.0000e+00,  ...,  0.0000e+00,\n",
       "              0.0000e+00,  0.0000e+00]]]],\n",
       " \n",
       " \n",
       " \n",
       "         ...,\n",
       " \n",
       " \n",
       " \n",
       "         [[[[-1.4061e-02,  1.7563e-02, -8.5602e-03,  ..., -2.3987e-02,\n",
       "              4.8523e-02, -2.7878e-02],\n",
       "            [ 2.9053e-01,  1.8555e-02,  6.8018e-01,  ..., -2.9834e-01,\n",
       "             -4.6582e-01, -4.7974e-02],\n",
       "            [ 1.1182e-01,  8.5645e-01,  1.4563e-01,  ...,  4.3579e-01,\n",
       "              3.6572e-01, -5.8044e-02],\n",
       "            ...,\n",
       "            [ 0.0000e+00,  0.0000e+00,  0.0000e+00,  ...,  0.0000e+00,\n",
       "              0.0000e+00,  0.0000e+00],\n",
       "            [ 0.0000e+00,  0.0000e+00,  0.0000e+00,  ...,  0.0000e+00,\n",
       "              0.0000e+00,  0.0000e+00],\n",
       "            [ 0.0000e+00,  0.0000e+00,  0.0000e+00,  ...,  0.0000e+00,\n",
       "              0.0000e+00,  0.0000e+00]],\n",
       " \n",
       "           [[-4.5288e-02, -1.3977e-02,  3.0746e-02,  ...,  3.9368e-02,\n",
       "              1.3580e-03, -5.6091e-02],\n",
       "            [-1.7456e-01, -2.4146e-01, -5.2783e-01,  ..., -2.1729e-02,\n",
       "              2.8198e-02, -5.5817e-02],\n",
       "            [ 6.2256e-01,  1.6357e-01, -1.0859e+00,  ..., -2.5830e-01,\n",
       "              2.0972e-01, -6.8457e-01],\n",
       "            ...,\n",
       "            [ 0.0000e+00,  0.0000e+00,  0.0000e+00,  ...,  0.0000e+00,\n",
       "              0.0000e+00,  0.0000e+00],\n",
       "            [ 0.0000e+00,  0.0000e+00,  0.0000e+00,  ...,  0.0000e+00,\n",
       "              0.0000e+00,  0.0000e+00],\n",
       "            [ 0.0000e+00,  0.0000e+00,  0.0000e+00,  ...,  0.0000e+00,\n",
       "              0.0000e+00,  0.0000e+00]],\n",
       " \n",
       "           [[ 2.1553e-04,  3.4332e-02, -9.0714e-03,  ..., -8.3313e-03,\n",
       "             -1.6037e-02, -7.1716e-04],\n",
       "            [ 1.6467e-01, -3.6865e-01, -2.2754e-01,  ..., -3.1641e-01,\n",
       "             -3.9233e-01,  4.6973e-01],\n",
       "            [ 1.6553e-01,  3.4473e-01, -1.6211e-01,  ..., -9.8584e-01,\n",
       "             -1.9653e-01,  2.2559e-01],\n",
       "            ...,\n",
       "            [ 0.0000e+00,  0.0000e+00,  0.0000e+00,  ...,  0.0000e+00,\n",
       "              0.0000e+00,  0.0000e+00],\n",
       "            [ 0.0000e+00,  0.0000e+00,  0.0000e+00,  ...,  0.0000e+00,\n",
       "              0.0000e+00,  0.0000e+00],\n",
       "            [ 0.0000e+00,  0.0000e+00,  0.0000e+00,  ...,  0.0000e+00,\n",
       "              0.0000e+00,  0.0000e+00]],\n",
       " \n",
       "           ...,\n",
       " \n",
       "           [[-3.2166e-02, -1.2909e-02,  5.6030e-02,  ..., -2.4185e-02,\n",
       "             -1.2535e-02,  3.9734e-02],\n",
       "            [-3.8867e-01,  3.1372e-02,  2.7515e-01,  ...,  2.1045e-01,\n",
       "             -1.9727e-01,  3.0371e-01],\n",
       "            [-4.6802e-01, -9.0332e-01, -4.6851e-01,  ...,  1.9385e-01,\n",
       "             -9.4604e-02, -1.6589e-01],\n",
       "            ...,\n",
       "            [ 0.0000e+00,  0.0000e+00,  0.0000e+00,  ...,  0.0000e+00,\n",
       "              0.0000e+00,  0.0000e+00],\n",
       "            [ 0.0000e+00,  0.0000e+00,  0.0000e+00,  ...,  0.0000e+00,\n",
       "              0.0000e+00,  0.0000e+00],\n",
       "            [ 0.0000e+00,  0.0000e+00,  0.0000e+00,  ...,  0.0000e+00,\n",
       "              0.0000e+00,  0.0000e+00]],\n",
       " \n",
       "           [[-6.4087e-03,  2.8191e-03, -2.0142e-02,  ...,  6.6772e-02,\n",
       "              3.1860e-02, -9.7885e-03],\n",
       "            [-9.0332e-02,  2.3486e-01, -1.8774e-01,  ..., -6.0986e-01,\n",
       "              1.3281e-01,  7.6367e-01],\n",
       "            [-7.6514e-01,  5.0244e-01,  3.5400e-01,  ..., -1.2188e+00,\n",
       "             -4.8584e-01, -3.1396e-01],\n",
       "            ...,\n",
       "            [ 0.0000e+00,  0.0000e+00,  0.0000e+00,  ...,  0.0000e+00,\n",
       "              0.0000e+00,  0.0000e+00],\n",
       "            [ 0.0000e+00,  0.0000e+00,  0.0000e+00,  ...,  0.0000e+00,\n",
       "              0.0000e+00,  0.0000e+00],\n",
       "            [ 0.0000e+00,  0.0000e+00,  0.0000e+00,  ...,  0.0000e+00,\n",
       "              0.0000e+00,  0.0000e+00]],\n",
       " \n",
       "           [[ 4.9652e-02, -3.0182e-02, -1.2856e-02,  ...,  1.1223e-02,\n",
       "             -4.1870e-02, -3.1677e-02],\n",
       "            [-4.9658e-01,  2.7856e-01, -9.0820e-01,  ..., -3.0444e-01,\n",
       "             -1.0773e-01, -3.1104e-01],\n",
       "            [-4.2627e-01,  6.2305e-01, -8.6865e-01,  ...,  8.8428e-01,\n",
       "             -4.2188e-01, -1.6602e-01],\n",
       "            ...,\n",
       "            [ 0.0000e+00,  0.0000e+00,  0.0000e+00,  ...,  0.0000e+00,\n",
       "              0.0000e+00,  0.0000e+00],\n",
       "            [ 0.0000e+00,  0.0000e+00,  0.0000e+00,  ...,  0.0000e+00,\n",
       "              0.0000e+00,  0.0000e+00],\n",
       "            [ 0.0000e+00,  0.0000e+00,  0.0000e+00,  ...,  0.0000e+00,\n",
       "              0.0000e+00,  0.0000e+00]]]],\n",
       " \n",
       " \n",
       " \n",
       "         [[[[ 3.0701e-02,  6.2744e-02,  2.0691e-02,  ..., -9.5264e-01,\n",
       "             -3.0823e-02,  6.7627e-02],\n",
       "            [ 2.9150e-01, -2.8442e-01,  6.3281e-01,  ..., -4.9286e-02,\n",
       "              1.4854e+00, -5.1709e-01],\n",
       "            [ 1.0967e+00,  1.4380e-01,  1.9116e-01,  ...,  2.3281e+00,\n",
       "              5.8545e-01, -1.4783e-01],\n",
       "            ...,\n",
       "            [ 0.0000e+00,  0.0000e+00,  0.0000e+00,  ...,  0.0000e+00,\n",
       "              0.0000e+00,  0.0000e+00],\n",
       "            [ 0.0000e+00,  0.0000e+00,  0.0000e+00,  ...,  0.0000e+00,\n",
       "              0.0000e+00,  0.0000e+00],\n",
       "            [ 0.0000e+00,  0.0000e+00,  0.0000e+00,  ...,  0.0000e+00,\n",
       "              0.0000e+00,  0.0000e+00]],\n",
       " \n",
       "           [[-3.1036e-02, -1.4905e-01,  9.3933e-02,  ...,  1.1890e-01,\n",
       "             -2.7148e-01,  4.9292e-01],\n",
       "            [ 1.1810e-01,  8.7256e-01,  8.4473e-01,  ..., -1.6406e+00,\n",
       "             -5.4382e-02, -1.2178e+00],\n",
       "            [-1.1646e-01,  3.7354e-02,  1.3027e+00,  ..., -1.9072e+00,\n",
       "              1.1865e+00, -3.0762e-01],\n",
       "            ...,\n",
       "            [ 0.0000e+00,  0.0000e+00,  0.0000e+00,  ...,  0.0000e+00,\n",
       "              0.0000e+00,  0.0000e+00],\n",
       "            [ 0.0000e+00,  0.0000e+00,  0.0000e+00,  ...,  0.0000e+00,\n",
       "              0.0000e+00,  0.0000e+00],\n",
       "            [ 0.0000e+00,  0.0000e+00,  0.0000e+00,  ...,  0.0000e+00,\n",
       "              0.0000e+00,  0.0000e+00]],\n",
       " \n",
       "           [[ 8.9966e-02, -5.9265e-02,  3.9185e-02,  ...,  1.1243e-01,\n",
       "              2.8369e-01, -1.5703e+00],\n",
       "            [-3.4790e-01, -4.3530e-01,  1.7969e-01,  ..., -2.4988e-01,\n",
       "             -9.6680e-01,  8.0127e-01],\n",
       "            [-3.6865e-01,  4.5239e-01, -1.7871e-01,  ...,  1.6129e-02,\n",
       "             -5.3125e-01,  5.6592e-01],\n",
       "            ...,\n",
       "            [ 0.0000e+00,  0.0000e+00,  0.0000e+00,  ...,  0.0000e+00,\n",
       "              0.0000e+00,  0.0000e+00],\n",
       "            [ 0.0000e+00,  0.0000e+00,  0.0000e+00,  ...,  0.0000e+00,\n",
       "              0.0000e+00,  0.0000e+00],\n",
       "            [ 0.0000e+00,  0.0000e+00,  0.0000e+00,  ...,  0.0000e+00,\n",
       "              0.0000e+00,  0.0000e+00]],\n",
       " \n",
       "           ...,\n",
       " \n",
       "           [[ 7.9498e-03,  1.5144e-03, -3.1494e-02,  ...,  8.5303e-01,\n",
       "             -6.5186e-01,  1.5684e+00],\n",
       "            [-1.5273e+00, -1.3135e+00,  3.7988e-01,  ..., -4.3066e-01,\n",
       "              7.2998e-02, -3.7720e-01],\n",
       "            [-4.6313e-01, -3.3374e-01, -3.2324e-01,  ..., -7.8564e-01,\n",
       "              4.6533e-01, -8.0469e-01],\n",
       "            ...,\n",
       "            [ 0.0000e+00,  0.0000e+00,  0.0000e+00,  ...,  0.0000e+00,\n",
       "              0.0000e+00,  0.0000e+00],\n",
       "            [ 0.0000e+00,  0.0000e+00,  0.0000e+00,  ...,  0.0000e+00,\n",
       "              0.0000e+00,  0.0000e+00],\n",
       "            [ 0.0000e+00,  0.0000e+00,  0.0000e+00,  ...,  0.0000e+00,\n",
       "              0.0000e+00,  0.0000e+00]],\n",
       " \n",
       "           [[-7.6843e-02,  7.9468e-02,  1.2909e-02,  ..., -1.8225e-01,\n",
       "             -5.6641e-01,  2.8369e-01],\n",
       "            [ 1.4736e+00,  9.3604e-01,  3.5376e-01,  ...,  2.1211e+00,\n",
       "             -9.4678e-01, -2.8320e-01],\n",
       "            [-1.8665e-01,  2.7295e-01, -1.6772e-01,  ...,  7.1484e-01,\n",
       "             -1.8193e+00, -4.2383e-01],\n",
       "            ...,\n",
       "            [ 0.0000e+00,  0.0000e+00,  0.0000e+00,  ...,  0.0000e+00,\n",
       "              0.0000e+00,  0.0000e+00],\n",
       "            [ 0.0000e+00,  0.0000e+00,  0.0000e+00,  ...,  0.0000e+00,\n",
       "              0.0000e+00,  0.0000e+00],\n",
       "            [ 0.0000e+00,  0.0000e+00,  0.0000e+00,  ...,  0.0000e+00,\n",
       "              0.0000e+00,  0.0000e+00]],\n",
       " \n",
       "           [[-9.3384e-02,  7.7820e-04,  1.4526e-02,  ..., -5.3125e-01,\n",
       "              5.7666e-01, -1.2311e-01],\n",
       "            [-8.3398e-01,  1.0156e+00, -1.4343e-01,  ...,  1.0508e+00,\n",
       "              5.2148e-01, -5.4102e-01],\n",
       "            [-9.0723e-01, -5.3271e-01,  4.3286e-01,  ...,  8.1396e-01,\n",
       "              5.6104e-01, -3.8354e-01],\n",
       "            ...,\n",
       "            [ 0.0000e+00,  0.0000e+00,  0.0000e+00,  ...,  0.0000e+00,\n",
       "              0.0000e+00,  0.0000e+00],\n",
       "            [ 0.0000e+00,  0.0000e+00,  0.0000e+00,  ...,  0.0000e+00,\n",
       "              0.0000e+00,  0.0000e+00],\n",
       "            [ 0.0000e+00,  0.0000e+00,  0.0000e+00,  ...,  0.0000e+00,\n",
       "              0.0000e+00,  0.0000e+00]]]],\n",
       " \n",
       " \n",
       " \n",
       "         [[[[ 4.6387e-02,  8.0490e-03, -7.3128e-03,  ..., -2.2003e-02,\n",
       "              5.2765e-02, -4.4403e-02],\n",
       "            [-3.3984e-01, -2.0325e-01, -9.8633e-02,  ..., -2.7661e-01,\n",
       "             -4.4238e-01,  7.0508e-01],\n",
       "            [ 1.6394e-01, -2.3779e-01, -5.6732e-02,  ...,  7.7930e-01,\n",
       "             -1.8127e-01, -4.2603e-01],\n",
       "            ...,\n",
       "            [ 0.0000e+00,  0.0000e+00,  0.0000e+00,  ...,  0.0000e+00,\n",
       "              0.0000e+00,  0.0000e+00],\n",
       "            [ 0.0000e+00,  0.0000e+00,  0.0000e+00,  ...,  0.0000e+00,\n",
       "              0.0000e+00,  0.0000e+00],\n",
       "            [ 0.0000e+00,  0.0000e+00,  0.0000e+00,  ...,  0.0000e+00,\n",
       "              0.0000e+00,  0.0000e+00]],\n",
       " \n",
       "           [[-1.0880e-02,  1.0849e-02, -1.9897e-02,  ..., -1.6041e-03,\n",
       "             -4.2572e-02, -3.7308e-03],\n",
       "            [-3.2349e-03, -5.0537e-02, -4.2773e-01,  ...,  6.4331e-02,\n",
       "             -4.6729e-01,  2.8833e-01],\n",
       "            [-2.1301e-01, -1.3730e+00,  1.6577e-01,  ..., -2.9639e-01,\n",
       "             -1.9287e-01,  1.4160e-01],\n",
       "            ...,\n",
       "            [ 0.0000e+00,  0.0000e+00,  0.0000e+00,  ...,  0.0000e+00,\n",
       "              0.0000e+00,  0.0000e+00],\n",
       "            [ 0.0000e+00,  0.0000e+00,  0.0000e+00,  ...,  0.0000e+00,\n",
       "              0.0000e+00,  0.0000e+00],\n",
       "            [ 0.0000e+00,  0.0000e+00,  0.0000e+00,  ...,  0.0000e+00,\n",
       "              0.0000e+00,  0.0000e+00]],\n",
       " \n",
       "           [[ 2.9327e-02,  6.4453e-02,  2.9572e-02,  ..., -2.0172e-02,\n",
       "             -3.9062e-02,  3.9856e-02],\n",
       "            [-2.7084e-02, -1.5063e-01,  1.9031e-01,  ...,  1.4478e-01,\n",
       "              9.2896e-02, -2.9028e-01],\n",
       "            [-1.6382e-01, -1.5576e-01, -4.1577e-01,  ..., -3.3911e-01,\n",
       "             -5.3760e-01, -2.0667e-01],\n",
       "            ...,\n",
       "            [ 0.0000e+00,  0.0000e+00,  0.0000e+00,  ...,  0.0000e+00,\n",
       "              0.0000e+00,  0.0000e+00],\n",
       "            [ 0.0000e+00,  0.0000e+00,  0.0000e+00,  ...,  0.0000e+00,\n",
       "              0.0000e+00,  0.0000e+00],\n",
       "            [ 0.0000e+00,  0.0000e+00,  0.0000e+00,  ...,  0.0000e+00,\n",
       "              0.0000e+00,  0.0000e+00]],\n",
       " \n",
       "           ...,\n",
       " \n",
       "           [[ 1.2772e-02, -8.4717e-02, -4.2725e-04,  ..., -5.7373e-02,\n",
       "              2.3209e-02,  1.6144e-02],\n",
       "            [ 1.6797e-01, -1.4453e-01,  1.7090e-02,  ..., -3.3789e-01,\n",
       "              8.6670e-02,  8.7830e-02],\n",
       "            [-8.0957e-01,  3.1787e-01, -1.0059e+00,  ...,  4.9414e-01,\n",
       "              2.3450e-01, -3.8037e-01],\n",
       "            ...,\n",
       "            [ 0.0000e+00,  0.0000e+00,  0.0000e+00,  ...,  0.0000e+00,\n",
       "              0.0000e+00,  0.0000e+00],\n",
       "            [ 0.0000e+00,  0.0000e+00,  0.0000e+00,  ...,  0.0000e+00,\n",
       "              0.0000e+00,  0.0000e+00],\n",
       "            [ 0.0000e+00,  0.0000e+00,  0.0000e+00,  ...,  0.0000e+00,\n",
       "              0.0000e+00,  0.0000e+00]],\n",
       " \n",
       "           [[ 2.5665e-02, -2.1027e-02, -5.0262e-02,  ...,  1.6510e-02,\n",
       "             -8.8501e-03, -1.1368e-02],\n",
       "            [ 7.8613e-02, -5.7617e-01,  6.5527e-01,  ...,  5.1270e-01,\n",
       "             -1.7041e-01, -5.5664e-01],\n",
       "            [-4.3506e-01, -7.8247e-02,  2.0166e-01,  ..., -8.6548e-02,\n",
       "             -7.9883e-01,  2.3828e-01],\n",
       "            ...,\n",
       "            [ 0.0000e+00,  0.0000e+00,  0.0000e+00,  ...,  0.0000e+00,\n",
       "              0.0000e+00,  0.0000e+00],\n",
       "            [ 0.0000e+00,  0.0000e+00,  0.0000e+00,  ...,  0.0000e+00,\n",
       "              0.0000e+00,  0.0000e+00],\n",
       "            [ 0.0000e+00,  0.0000e+00,  0.0000e+00,  ...,  0.0000e+00,\n",
       "              0.0000e+00,  0.0000e+00]],\n",
       " \n",
       "           [[-1.7776e-03, -2.5284e-02,  3.5339e-02,  ..., -5.5298e-02,\n",
       "              2.3148e-02, -3.5217e-02],\n",
       "            [-8.2129e-01, -2.3010e-01,  1.4856e-01,  ...,  3.5693e-01,\n",
       "             -2.3462e-01, -3.3862e-01],\n",
       "            [ 5.4639e-01,  1.0883e-01,  8.6230e-01,  ..., -5.6299e-01,\n",
       "              1.2390e-01, -7.4768e-02],\n",
       "            ...,\n",
       "            [ 0.0000e+00,  0.0000e+00,  0.0000e+00,  ...,  0.0000e+00,\n",
       "              0.0000e+00,  0.0000e+00],\n",
       "            [ 0.0000e+00,  0.0000e+00,  0.0000e+00,  ...,  0.0000e+00,\n",
       "              0.0000e+00,  0.0000e+00],\n",
       "            [ 0.0000e+00,  0.0000e+00,  0.0000e+00,  ...,  0.0000e+00,\n",
       "              0.0000e+00,  0.0000e+00]]]]], device='cuda:0',\n",
       "        dtype=torch.float16))"
      ]
     },
     "execution_count": 14,
     "metadata": {},
     "output_type": "execute_result"
    }
   ],
   "source": [
    "past_key_values_data = model.past_key_values_data\n",
    "past_key_values_data.shape, past_key_values_data"
   ]
  },
  {
   "cell_type": "code",
   "execution_count": 15,
   "metadata": {},
   "outputs": [
    {
     "data": {
      "text/plain": [
       "(torch.Size([64]),\n",
       " tensor([50, 50, 50, 50, 50, 50, 50, 50, 50, 50, 50, 50, 50, 50, 50, 50, 50, 50,\n",
       "         50, 50, 50, 50, 50, 50, 50, 50, 50, 50, 50, 50, 50, 50, 50, 50, 50, 50,\n",
       "         50, 50, 50, 50, 50, 50, 50, 50, 50, 50, 50, 50, 50, 50, 50, 50, 50, 50,\n",
       "         50, 50, 50, 50, 50, 50, 50, 50, 50, 50]))"
      ]
     },
     "execution_count": 15,
     "metadata": {},
     "output_type": "execute_result"
    }
   ],
   "source": [
    "current_length_data = model.current_length_data\n",
    "current_length_data.shape, current_length_data"
   ]
  },
  {
   "cell_type": "code",
   "execution_count": 16,
   "metadata": {},
   "outputs": [
    {
     "data": {
      "text/plain": [
       "tensor([0, 0, 0, 0, 0, 0, 0, 0, 0, 0, 0, 0, 0, 0, 0, 0, 0, 0, 0, 0, 0, 0, 0, 0,\n",
       "        0, 0, 0, 0, 0, 0, 0, 0, 0, 0, 0, 0, 0, 0, 0, 0, 0, 0, 0, 0, 0, 0, 0, 0,\n",
       "        0, 0, 0, 0, 0, 0, 0, 0, 0, 0, 0, 0, 0, 0, 0, 0])"
      ]
     },
     "execution_count": 16,
     "metadata": {},
     "output_type": "execute_result"
    }
   ],
   "source": [
    "current_length_data.zero_()\n",
    "current_length_data"
   ]
  },
  {
   "cell_type": "code",
   "execution_count": 17,
   "metadata": {},
   "outputs": [
    {
     "data": {
      "text/plain": [
       "40"
      ]
     },
     "execution_count": 17,
     "metadata": {},
     "output_type": "execute_result"
    }
   ],
   "source": [
    "input_len = input_ids.shape[1]\n",
    "input_len"
   ]
  },
  {
   "cell_type": "code",
   "execution_count": 18,
   "metadata": {},
   "outputs": [
    {
     "data": {
      "text/plain": [
       "(tensor([[[[1., 0., 0.,  ..., 0., 0., 0.],\n",
       "           [1., 1., 0.,  ..., 0., 0., 0.],\n",
       "           [1., 0., 1.,  ..., 0., 0., 0.],\n",
       "           ...,\n",
       "           [1., 1., 0.,  ..., 1., 0., 0.],\n",
       "           [1., 1., 0.,  ..., 0., 1., 0.],\n",
       "           [1., 1., 0.,  ..., 0., 0., 1.]]]], device='cuda:0'),\n",
       " None)"
      ]
     },
     "execution_count": 18,
     "metadata": {},
     "output_type": "execute_result"
    }
   ],
   "source": [
    "model.base_model.model.medusa_mask, model.base_model.model.medusa_mode"
   ]
  },
  {
   "cell_type": "code",
   "execution_count": 19,
   "metadata": {},
   "outputs": [],
   "source": [
    "from medusa.model.utils import reset_medusa_mode, initialize_medusa, generate_candidates, tree_decoding, evaluate_posterior, update_inference_inputs\n",
    "\n",
    "reset_medusa_mode(model)"
   ]
  },
  {
   "cell_type": "code",
   "execution_count": 20,
   "metadata": {},
   "outputs": [
    {
     "data": {
      "text/plain": [
       "(torch.Size([5, 1, 40, 32000]), torch.Size([1, 40, 32000]))"
      ]
     },
     "execution_count": 20,
     "metadata": {},
     "output_type": "execute_result"
    }
   ],
   "source": [
    "medusa_logits, logits = initialize_medusa(\n",
    "    input_ids, model, medusa_buffers[\"medusa_attn_mask\"], past_key_values\n",
    ")\n",
    "\n",
    "medusa_logits.shape, logits.shape"
   ]
  },
  {
   "cell_type": "code",
   "execution_count": 21,
   "metadata": {},
   "outputs": [],
   "source": [
    "new_token = 0"
   ]
  },
  {
   "cell_type": "code",
   "execution_count": 22,
   "metadata": {},
   "outputs": [
    {
     "data": {
      "text/plain": [
       "(torch.Size([42, 5]), torch.Size([1, 64]))"
      ]
     },
     "execution_count": 22,
     "metadata": {},
     "output_type": "execute_result"
    }
   ],
   "source": [
    "candidates, tree_candidates = generate_candidates(\n",
    "    medusa_logits,\n",
    "    logits,\n",
    "    medusa_buffers[\"tree_indices\"],\n",
    "    medusa_buffers[\"retrieve_indices\"],\n",
    "    temperature=args['temperature'],\n",
    "    posterior_alpha=0.3,\n",
    "    posterior_threshold=0.09,\n",
    "    top_p=0.8,\n",
    "    sampling='typical',\n",
    "    fast=True,\n",
    ")\n",
    "\n",
    "candidates.shape, tree_candidates.shape"
   ]
  },
  {
   "cell_type": "code",
   "execution_count": 23,
   "metadata": {},
   "outputs": [
    {
     "data": {
      "text/plain": [
       "tensor([[15043, 29991,   727, 29892, 30166,   518,     2,   304,  1738, 14332,\n",
       "           322,  1128, 29991,   306,  1763,   920,     2,  1317, 29871,   739,\n",
       "           727,  1128, 29991,   306,  1763,   920,  1128, 29991,  1128, 29991,\n",
       "          1128,  1128,  1128,  1128,   508, 29915,   306,  1128,   338,  1122,\n",
       "         29991,   674,   366,   508, 29915,   306,  1128,   508, 29915,   508,\n",
       "           508,   508,   508, 29915,   306,   508,   508,   306,   508,   366,\n",
       "         29885,   306,   306,   306]], device='cuda:0')"
      ]
     },
     "execution_count": 23,
     "metadata": {},
     "output_type": "execute_result"
    }
   ],
   "source": [
    "tree_candidates"
   ]
  },
  {
   "cell_type": "code",
   "execution_count": 24,
   "metadata": {},
   "outputs": [
    {
     "data": {
      "text/plain": [
       "tensor([[15043, 29991, 29991,   508,   306],\n",
       "        [15043, 29991,  1128,   306,   306],\n",
       "        [15043, 29991,  1128, 29915,   306],\n",
       "        [15043, 29991,  1128,   508, 29885]], device='cuda:0')"
      ]
     },
     "execution_count": 24,
     "metadata": {},
     "output_type": "execute_result"
    }
   ],
   "source": [
    "candidates[:4]"
   ]
  },
  {
   "cell_type": "code",
   "execution_count": 25,
   "metadata": {},
   "outputs": [
    {
     "data": {
      "text/plain": [
       "(torch.Size([5, 42, 5, 32000]),\n",
       " torch.Size([42, 5, 32000]),\n",
       " BaseModelOutputWithPast(last_hidden_state=tensor([[[ 0.0200, -0.3262,  0.2083,  ...,  0.9995, -0.4351, -1.2793],\n",
       "          [-0.3823, -1.6719, -0.4983,  ...,  1.2344, -1.3271,  1.2070],\n",
       "          [ 0.2930, -1.1426,  0.0505,  ..., -0.1533, -0.6206, -0.6357],\n",
       "          ...,\n",
       "          [-0.5840, -1.6250,  0.0761,  ...,  1.2686, -1.6855, -0.2402],\n",
       "          [-0.1727, -0.8457, -0.5044,  ...,  1.3057, -2.3984,  0.5483],\n",
       "          [ 0.6421, -0.9990,  0.3555,  ...,  1.1768, -1.9121,  0.4226]]],\n",
       "        device='cuda:0', dtype=torch.float16), past_key_values=None, hidden_states=None, attentions=None))"
      ]
     },
     "execution_count": 25,
     "metadata": {},
     "output_type": "execute_result"
    }
   ],
   "source": [
    "medusa_logits, logits, outputs = tree_decoding(\n",
    "    model,\n",
    "    tree_candidates,\n",
    "    past_key_values,\n",
    "    medusa_buffers[\"medusa_position_ids\"],\n",
    "    input_ids,\n",
    "    medusa_buffers[\"retrieve_indices\"],\n",
    ")\n",
    "\n",
    "medusa_logits.shape, logits.shape, outputs"
   ]
  },
  {
   "cell_type": "code",
   "execution_count": 26,
   "metadata": {},
   "outputs": [
    {
     "data": {
      "text/plain": [
       "(tensor(6, device='cuda:0'), tensor(4, device='cuda:0'))"
      ]
     },
     "execution_count": 26,
     "metadata": {},
     "output_type": "execute_result"
    }
   ],
   "source": [
    "best_candidate, accept_length = evaluate_posterior(\n",
    "    logits, candidates, args['temperature'], 0.09, 0.3, top_p=0.8, sampling='typical', fast=True\n",
    ")\n",
    "\n",
    "best_candidate, accept_length"
   ]
  },
  {
   "cell_type": "code",
   "execution_count": 27,
   "metadata": {},
   "outputs": [
    {
     "data": {
      "text/plain": [
       "(torch.Size([1, 40]),\n",
       " tensor([[    1,   319, 13563,  1546,   263, 12758,  1404,   322,   385, 23116,\n",
       "          21082, 20255, 29889,   450, 20255,  4076,  8444, 29892, 13173, 29892,\n",
       "            322,  1248,   568,  6089,   304,   278,  1404, 29915, 29879,  5155,\n",
       "          29889,  3148,  1001, 29901, 22172,   319,  1799,  9047, 13566, 29901]],\n",
       "        device='cuda:0'))"
      ]
     },
     "execution_count": 27,
     "metadata": {},
     "output_type": "execute_result"
    }
   ],
   "source": [
    "input_ids.shape, input_ids"
   ]
  },
  {
   "cell_type": "code",
   "execution_count": 28,
   "metadata": {},
   "outputs": [
    {
     "data": {
      "text/plain": [
       "(torch.Size([1, 45]),\n",
       " tensor([[    1,   319, 13563,  1546,   263, 12758,  1404,   322,   385, 23116,\n",
       "          21082, 20255, 29889,   450, 20255,  4076,  8444, 29892, 13173, 29892,\n",
       "            322,  1248,   568,  6089,   304,   278,  1404, 29915, 29879,  5155,\n",
       "          29889,  3148,  1001, 29901, 22172,   319,  1799,  9047, 13566, 29901,\n",
       "          15043, 29991,  1128,   508,   306]], device='cuda:0'),\n",
       " torch.Size([1, 1, 32000]),\n",
       " torch.Size([5, 1, 1, 32000]),\n",
       " tensor(5, device='cuda:0'))"
      ]
     },
     "execution_count": 28,
     "metadata": {},
     "output_type": "execute_result"
    }
   ],
   "source": [
    "input_ids, logits, medusa_logits, new_token = update_inference_inputs(\n",
    "    input_ids,\n",
    "    candidates,\n",
    "    best_candidate,\n",
    "    accept_length,\n",
    "    medusa_buffers[\"retrieve_indices\"],\n",
    "    outputs,\n",
    "    logits,\n",
    "    medusa_logits,\n",
    "    new_token,\n",
    "    past_key_values_data,\n",
    "    current_length_data,\n",
    ")\n",
    "\n",
    "input_ids.shape, input_ids, logits.shape, medusa_logits.shape, new_token"
   ]
  }
 ],
 "metadata": {
  "kernelspec": {
   "display_name": "env",
   "language": "python",
   "name": "python3"
  },
  "language_info": {
   "codemirror_mode": {
    "name": "ipython",
    "version": 3
   },
   "file_extension": ".py",
   "mimetype": "text/x-python",
   "name": "python",
   "nbconvert_exporter": "python",
   "pygments_lexer": "ipython3",
   "version": "3.10.12"
  }
 },
 "nbformat": 4,
 "nbformat_minor": 2
}
